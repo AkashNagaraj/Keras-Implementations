{
 "cells": [
  {
   "cell_type": "code",
   "execution_count": 3,
   "metadata": {},
   "outputs": [],
   "source": [
    "from keras.datasets import imdb\n",
    "from keras.preprocessing import sequence\n",
    "from keras import layers\n",
    "from keras.models import Sequential"
   ]
  },
  {
   "cell_type": "code",
   "execution_count": 13,
   "metadata": {},
   "outputs": [],
   "source": [
    "max_features=10000\n",
    "maxlen=500\n",
    "(x_train,y_train),(x_test,y_test)=imdb.load_data(num_words=max_features)\n",
    "\n",
    "x_train=[x[::-1]for x in x_train]\n",
    "x_test=[x[::-1]for x in x_test]"
   ]
  },
  {
   "cell_type": "code",
   "execution_count": 14,
   "metadata": {},
   "outputs": [],
   "source": [
    "x_train=sequence.pad_sequences(x_train,maxlen)\n",
    "x_test=sequence.pad_sequences(x_test,maxlen)"
   ]
  },
  {
   "cell_type": "code",
   "execution_count": 15,
   "metadata": {},
   "outputs": [
    {
     "name": "stdout",
     "output_type": "stream",
     "text": [
      "WARNING:tensorflow:From /home/linuxbox/.local/lib/python3.6/site-packages/tensorflow/python/framework/op_def_library.py:263: colocate_with (from tensorflow.python.framework.ops) is deprecated and will be removed in a future version.\n",
      "Instructions for updating:\n",
      "Colocations handled automatically by placer.\n"
     ]
    }
   ],
   "source": [
    "model=Sequential()\n",
    "model.add(layers.Embedding(max_features,128))\n",
    "model.add(layers.LSTM(32))\n",
    "model.add(layers.Dense(1,activation='sigmoid'))"
   ]
  },
  {
   "cell_type": "code",
   "execution_count": 16,
   "metadata": {},
   "outputs": [
    {
     "name": "stdout",
     "output_type": "stream",
     "text": [
      "WARNING:tensorflow:From /home/linuxbox/.local/lib/python3.6/site-packages/tensorflow/python/ops/math_ops.py:3066: to_int32 (from tensorflow.python.ops.math_ops) is deprecated and will be removed in a future version.\n",
      "Instructions for updating:\n",
      "Use tf.cast instead.\n",
      "Train on 20000 samples, validate on 5000 samples\n",
      "Epoch 1/10\n",
      "20000/20000 [==============================] - 97s 5ms/step - loss: 0.4893 - acc: 0.7653 - val_loss: 0.3385 - val_acc: 0.8696\n",
      "Epoch 2/10\n",
      "20000/20000 [==============================] - 92s 5ms/step - loss: 0.3043 - acc: 0.8830 - val_loss: 0.4310 - val_acc: 0.8050\n",
      "Epoch 3/10\n",
      "20000/20000 [==============================] - 92s 5ms/step - loss: 0.2542 - acc: 0.9049 - val_loss: 0.3139 - val_acc: 0.8772\n",
      "Epoch 4/10\n",
      "20000/20000 [==============================] - 90s 4ms/step - loss: 0.2166 - acc: 0.9213 - val_loss: 0.4133 - val_acc: 0.8664\n",
      "Epoch 5/10\n",
      "20000/20000 [==============================] - 90s 5ms/step - loss: 0.1970 - acc: 0.9312 - val_loss: 0.3348 - val_acc: 0.8802\n",
      "Epoch 6/10\n",
      "20000/20000 [==============================] - 91s 5ms/step - loss: 0.1725 - acc: 0.9389 - val_loss: 0.3818 - val_acc: 0.8788\n",
      "Epoch 7/10\n",
      "20000/20000 [==============================] - 89s 4ms/step - loss: 0.1606 - acc: 0.9457 - val_loss: 0.6871 - val_acc: 0.8094\n",
      "Epoch 8/10\n",
      "20000/20000 [==============================] - 90s 4ms/step - loss: 0.1436 - acc: 0.9501 - val_loss: 0.3684 - val_acc: 0.8780\n",
      "Epoch 9/10\n",
      "20000/20000 [==============================] - 90s 4ms/step - loss: 0.1330 - acc: 0.9543 - val_loss: 0.4247 - val_acc: 0.8748\n",
      "Epoch 10/10\n",
      "20000/20000 [==============================] - 90s 5ms/step - loss: 0.1256 - acc: 0.9592 - val_loss: 0.4622 - val_acc: 0.8784\n"
     ]
    }
   ],
   "source": [
    "model.compile(optimizer='rmsprop',loss='binary_crossentropy',metrics=['acc'])\n",
    "history=model.fit(x_train,y_train,epochs=10,batch_size=128,validation_split=0.2)"
   ]
  },
  {
   "cell_type": "code",
   "execution_count": 17,
   "metadata": {},
   "outputs": [],
   "source": [
    "model.save('LSTM.h5')"
   ]
  },
  {
   "cell_type": "code",
   "execution_count": null,
   "metadata": {},
   "outputs": [],
   "source": []
  },
  {
   "cell_type": "code",
   "execution_count": null,
   "metadata": {},
   "outputs": [],
   "source": []
  }
 ],
 "metadata": {
  "kernelspec": {
   "display_name": "Python 3",
   "language": "python",
   "name": "python3"
  },
  "language_info": {
   "codemirror_mode": {
    "name": "ipython",
    "version": 3
   },
   "file_extension": ".py",
   "mimetype": "text/x-python",
   "name": "python",
   "nbconvert_exporter": "python",
   "pygments_lexer": "ipython3",
   "version": "3.6.5"
  }
 },
 "nbformat": 4,
 "nbformat_minor": 2
}
