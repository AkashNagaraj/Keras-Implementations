{
 "cells": [
  {
   "cell_type": "code",
   "execution_count": null,
   "metadata": {},
   "outputs": [],
   "source": [
    "\"\"\"from keras.layers import Embedding\n",
    "embedding_layer=Embedding(1000,64)\"\"\""
   ]
  },
  {
   "cell_type": "code",
   "execution_count": 14,
   "metadata": {},
   "outputs": [],
   "source": [
    "from keras.datasets import imdb\n",
    "from keras import preprocessing\n",
    "\n",
    "max_features=1000\n",
    "maxlen=20\n",
    "\n",
    "(x_train,y_train),(x_test,y_test)=imdb.load_data(num_words=max_features)\n",
    "x_train=preprocessing.sequence.pad_sequences(x_train,maxlen=maxlen)\n",
    "x_test=preprocessing.sequence.pad_sequences(x_test,maxlen=maxlen)"
   ]
  },
  {
   "cell_type": "code",
   "execution_count": 17,
   "metadata": {},
   "outputs": [
    {
     "name": "stdout",
     "output_type": "stream",
     "text": [
      "WARNING:tensorflow:From /home/linuxbox/.local/lib/python3.6/site-packages/tensorflow/python/framework/op_def_library.py:263: colocate_with (from tensorflow.python.framework.ops) is deprecated and will be removed in a future version.\n",
      "Instructions for updating:\n",
      "Colocations handled automatically by placer.\n",
      "_________________________________________________________________\n",
      "Layer (type)                 Output Shape              Param #   \n",
      "=================================================================\n",
      "embedding_4 (Embedding)      (None, 20, 8)             80000     \n",
      "_________________________________________________________________\n",
      "flatten_1 (Flatten)          (None, 160)               0         \n",
      "_________________________________________________________________\n",
      "dense_1 (Dense)              (None, 1)                 161       \n",
      "=================================================================\n",
      "Total params: 80,161\n",
      "Trainable params: 80,161\n",
      "Non-trainable params: 0\n",
      "_________________________________________________________________\n",
      "WARNING:tensorflow:From /home/linuxbox/.local/lib/python3.6/site-packages/tensorflow/python/ops/math_ops.py:3066: to_int32 (from tensorflow.python.ops.math_ops) is deprecated and will be removed in a future version.\n",
      "Instructions for updating:\n",
      "Use tf.cast instead.\n",
      "Train on 20000 samples, validate on 5000 samples\n",
      "Epoch 1/10\n",
      "20000/20000 [==============================] - 4s 205us/step - loss: 0.6771 - acc: 0.6006 - val_loss: 0.6447 - val_acc: 0.6706\n",
      "Epoch 2/10\n",
      "20000/20000 [==============================] - 2s 114us/step - loss: 0.5829 - acc: 0.7186 - val_loss: 0.5628 - val_acc: 0.7046\n",
      "Epoch 3/10\n",
      "20000/20000 [==============================] - 2s 107us/step - loss: 0.5152 - acc: 0.7463 - val_loss: 0.5361 - val_acc: 0.7210\n",
      "Epoch 4/10\n",
      "20000/20000 [==============================] - 2s 112us/step - loss: 0.4879 - acc: 0.7604 - val_loss: 0.5299 - val_acc: 0.7294\n",
      "Epoch 5/10\n",
      "20000/20000 [==============================] - 2s 113us/step - loss: 0.4731 - acc: 0.7693 - val_loss: 0.5290 - val_acc: 0.7334\n",
      "Epoch 6/10\n",
      "20000/20000 [==============================] - 2s 107us/step - loss: 0.4633 - acc: 0.7776 - val_loss: 0.5316 - val_acc: 0.7344\n",
      "Epoch 7/10\n",
      "20000/20000 [==============================] - 2s 109us/step - loss: 0.4548 - acc: 0.7817 - val_loss: 0.5333 - val_acc: 0.7316\n",
      "Epoch 8/10\n",
      "20000/20000 [==============================] - 2s 106us/step - loss: 0.4471 - acc: 0.7868 - val_loss: 0.5377 - val_acc: 0.7290\n",
      "Epoch 9/10\n",
      "20000/20000 [==============================] - 2s 108us/step - loss: 0.4399 - acc: 0.7922 - val_loss: 0.5421 - val_acc: 0.7276\n",
      "Epoch 10/10\n",
      "20000/20000 [==============================] - 2s 109us/step - loss: 0.4328 - acc: 0.7959 - val_loss: 0.5458 - val_acc: 0.7288\n"
     ]
    }
   ],
   "source": [
    "from keras.models import Sequential\n",
    "from keras.layers import Flatten,Dense,Embedding\n",
    "\n",
    "model=Sequential()\n",
    "model.add(Embedding(10000,8,input_length=maxlen))\n",
    "model.add(Flatten())\n",
    "model.add(Dense(1,activation='sigmoid'))\n",
    "model.compile(optimizer='rmsprop',loss='binary_crossentropy',metrics=['acc'])\n",
    "model.summary()\n",
    "\n",
    "history=model.fit(x_train,y_train,epochs=10,batch_size=32,validation_split=0.2)\n"
   ]
  },
  {
   "cell_type": "code",
   "execution_count": null,
   "metadata": {},
   "outputs": [],
   "source": []
  }
 ],
 "metadata": {
  "kernelspec": {
   "display_name": "Python 3",
   "language": "python",
   "name": "python3"
  },
  "language_info": {
   "codemirror_mode": {
    "name": "ipython",
    "version": 3
   },
   "file_extension": ".py",
   "mimetype": "text/x-python",
   "name": "python",
   "nbconvert_exporter": "python",
   "pygments_lexer": "ipython3",
   "version": "3.6.5"
  }
 },
 "nbformat": 4,
 "nbformat_minor": 2
}
